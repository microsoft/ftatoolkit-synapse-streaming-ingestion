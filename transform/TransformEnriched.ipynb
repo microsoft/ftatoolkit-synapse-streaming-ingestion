{
  "cells": [
    {
      "cell_type": "code",
      "execution_count": 12,
      "metadata": {
        "collapsed": false,
        "microsoft": {
          "language": "python"
        }
      },
      "outputs": [
        {
          "data": {
            "application/vnd.livy.statement-meta+json": {
              "execution_finish_time": "2022-07-29T03:28:58.9617559Z",
              "execution_start_time": "2022-07-29T03:28:57.1288963Z",
              "livy_statement_state": "available",
              "queued_time": "2022-07-29T03:28:56.9785347Z",
              "session_id": "26",
              "session_start_time": null,
              "spark_jobs": null,
              "spark_pool": "poolstreamming",
              "state": "finished",
              "statement_id": 7
            },
            "text/plain": [
              "StatementMeta(poolstreamming, 26, 7, Finished, Available)"
            ]
          },
          "metadata": {},
          "output_type": "display_data"
        }
      ],
      "source": [
        "%%pyspark\n",
        "df = spark.read.load('abfss://datalake@streamdatalake.dfs.core.windows.net/Raw/DimCustomer/Year=*/Month=*/Day=*/File=*/*.snappy.parquet', format='parquet')"
      ]
    },
    {
      "cell_type": "code",
      "execution_count": 14,
      "metadata": {
        "jupyter": {
          "outputs_hidden": false,
          "source_hidden": false
        },
        "nteract": {
          "transient": {
            "deleting": false
          }
        }
      },
      "outputs": [
        {
          "data": {
            "application/vnd.livy.statement-meta+json": {
              "execution_finish_time": "2022-07-29T03:29:10.9737848Z",
              "execution_start_time": "2022-07-29T03:29:10.8035445Z",
              "livy_statement_state": "available",
              "queued_time": "2022-07-29T03:29:10.7054662Z",
              "session_id": "26",
              "session_start_time": null,
              "spark_jobs": null,
              "spark_pool": "poolstreamming",
              "state": "finished",
              "statement_id": 9
            },
            "text/plain": [
              "StatementMeta(poolstreamming, 26, 9, Finished, Available)"
            ]
          },
          "metadata": {},
          "output_type": "display_data"
        },
        {
          "name": "stdout",
          "output_type": "stream",
          "text": [
            "root\n",
            " |-- Body: string (nullable = true)\n",
            " |-- EnqueuedTimeUtc: string (nullable = true)\n",
            " |-- CustomerID: string (nullable = true)\n",
            "\n"
          ]
        }
      ],
      "source": [
        "\n",
        "from pyspark.sql import SparkSession,Row\n",
        "\n",
        "df.printSchema()\n"
      ]
    },
    {
      "cell_type": "code",
      "execution_count": 15,
      "metadata": {
        "jupyter": {
          "outputs_hidden": false,
          "source_hidden": false
        },
        "nteract": {
          "transient": {
            "deleting": false
          }
        }
      },
      "outputs": [
        {
          "data": {
            "application/vnd.livy.statement-meta+json": {
              "execution_finish_time": "2022-07-29T03:31:00.3591523Z",
              "execution_start_time": "2022-07-29T03:31:00.1913568Z",
              "livy_statement_state": "available",
              "queued_time": "2022-07-29T03:31:00.0180407Z",
              "session_id": "26",
              "session_start_time": null,
              "spark_jobs": null,
              "spark_pool": "poolstreamming",
              "state": "finished",
              "statement_id": 10
            },
            "text/plain": [
              "StatementMeta(poolstreamming, 26, 10, Finished, Available)"
            ]
          },
          "metadata": {},
          "output_type": "display_data"
        }
      ],
      "source": [
        "\n",
        "# Create Schema of the JSON column\n",
        "from pyspark.sql.types import StructType,StructField, StringType\n",
        "schema = StructType([ \n",
        "    StructField(\"CustomerKey\",StringType(),True),\n",
        "StructField(\"GeographyKey\",StringType(),True),\n",
        "StructField(\"CustomerAlternateKey\",StringType(),True),\n",
        "StructField(\"MaritalStatus\",StringType(),True),\n",
        "StructField(\"Gender\",StringType(),True),\n",
        "StructField(\"SalaryYear\",StringType(),True),\n",
        "StructField(\"TotalChildren\",StringType(),True),\n",
        "StructField(\"NumberChildrenAtHome\",StringType(),True),\n",
        "StructField(\"EnglishEducation\",StringType(),True),\n",
        "StructField(\"EnglishOccupation\",StringType(),True),\n",
        "StructField(\"HouseOwnerFlag\",StringType(),True),\n",
        "StructField(\"NumberCarsOwned\",StringType(),True),\n",
        "StructField(\"CommuteDistance\",StringType(),True),\n",
        "StructField(\"Region\",StringType(),True),\n",
        "StructField(\"Age\",StringType(),True),\n",
        "StructField(\"BikeBuyer\",StringType(),True)\n",
        "  ])\n"
      ]
    },
    {
      "cell_type": "code",
      "execution_count": 16,
      "metadata": {
        "jupyter": {
          "outputs_hidden": false,
          "source_hidden": false
        },
        "nteract": {
          "transient": {
            "deleting": false
          }
        }
      },
      "outputs": [
        {
          "data": {
            "application/vnd.livy.statement-meta+json": {
              "execution_finish_time": "2022-07-29T03:31:03.5208743Z",
              "execution_start_time": "2022-07-29T03:31:02.4578307Z",
              "livy_statement_state": "available",
              "queued_time": "2022-07-29T03:31:02.3294837Z",
              "session_id": "26",
              "session_start_time": null,
              "spark_jobs": null,
              "spark_pool": "poolstreamming",
              "state": "finished",
              "statement_id": 11
            },
            "text/plain": [
              "StatementMeta(poolstreamming, 26, 11, Finished, Available)"
            ]
          },
          "metadata": {},
          "output_type": "display_data"
        },
        {
          "name": "stdout",
          "output_type": "stream",
          "text": [
            "root\n",
            " |-- CustomerKey: string (nullable = true)\n",
            " |-- GeographyKey: string (nullable = true)\n",
            " |-- CustomerAlternateKey: string (nullable = true)\n",
            " |-- MaritalStatus: string (nullable = true)\n",
            " |-- Gender: string (nullable = true)\n",
            " |-- SalaryYear: string (nullable = true)\n",
            " |-- TotalChildren: string (nullable = true)\n",
            " |-- NumberChildrenAtHome: string (nullable = true)\n",
            " |-- EnglishEducation: string (nullable = true)\n",
            " |-- EnglishOccupation: string (nullable = true)\n",
            " |-- HouseOwnerFlag: string (nullable = true)\n",
            " |-- NumberCarsOwned: string (nullable = true)\n",
            " |-- CommuteDistance: string (nullable = true)\n",
            " |-- Region: string (nullable = true)\n",
            " |-- Age: string (nullable = true)\n",
            " |-- BikeBuyer: string (nullable = true)\n",
            "\n",
            "+-----------+------------+--------------------+-------------+------+----------+-------------+--------------------+----------------+-----------------+--------------+---------------+---------------+-------------+---+---------+\n",
            "|CustomerKey|GeographyKey|CustomerAlternateKey|MaritalStatus|Gender|SalaryYear|TotalChildren|NumberChildrenAtHome|EnglishEducation|EnglishOccupation|HouseOwnerFlag|NumberCarsOwned|CommuteDistance|Region       |Age|BikeBuyer|\n",
            "+-----------+------------+--------------------+-------------+------+----------+-------------+--------------------+----------------+-----------------+--------------+---------------+---------------+-------------+---+---------+\n",
            "|11000      |26          |AW00011000          |M            |M     |90000     |2            |0                   |Bachelors       |Professional     |1             |0              |1-2 Miles      |Pacific      |50 |1        |\n",
            "|11001      |37          |AW00011001          |S            |M     |60000     |3            |3                   |Bachelors       |Professional     |0             |1              |0-1 Miles      |Pacific      |46 |1        |\n",
            "|11002      |31          |AW00011002          |M            |M     |60000     |3            |3                   |Bachelors       |Professional     |1             |1              |2-5 Miles      |Pacific      |51 |1        |\n",
            "|11003      |11          |AW00011003          |S            |F     |70000     |0            |0                   |Bachelors       |Professional     |0             |1              |5-10 Miles     |Pacific      |48 |1        |\n",
            "|11004      |19          |AW00011004          |S            |F     |80000     |5            |5                   |Bachelors       |Professional     |1             |4              |1-2 Miles      |Pacific      |42 |1        |\n",
            "|11005      |22          |AW00011005          |S            |M     |70000     |0            |0                   |Bachelors       |Professional     |1             |1              |5-10 Miles     |Pacific      |45 |1        |\n",
            "|11006      |8           |AW00011006          |S            |F     |70000     |0            |0                   |Bachelors       |Professional     |1             |1              |5-10 Miles     |Pacific      |45 |1        |\n",
            "|11007      |40          |AW00011007          |M            |M     |60000     |3            |3                   |Bachelors       |Professional     |1             |2              |0-1 Miles      |Pacific      |52 |1        |\n",
            "|11008      |32          |AW00011008          |S            |F     |60000     |4            |4                   |Bachelors       |Professional     |1             |3              |10+ Miles      |Pacific      |47 |1        |\n",
            "|11009      |25          |AW00011009          |S            |M     |70000     |0            |0                   |Bachelors       |Professional     |0             |1              |5-10 Miles     |Pacific      |52 |1        |\n",
            "|11010      |22          |AW00011010          |S            |F     |70000     |0            |0                   |Bachelors       |Professional     |0             |1              |5-10 Miles     |Pacific      |52 |1        |\n",
            "|11011      |22          |AW00011011          |M            |M     |60000     |4            |4                   |Bachelors       |Professional     |1             |4              |10+ Miles      |Pacific      |53 |1        |\n",
            "|11012      |611         |AW00011012          |M            |F     |100000    |2            |0                   |Bachelors       |Management       |1             |2              |1-2 Miles      |North America|43 |0        |\n",
            "|11013      |543         |AW00011013          |M            |M     |100000    |2            |0                   |Bachelors       |Management       |1             |3              |0-1 Miles      |North America|42 |0        |\n",
            "|11014      |634         |AW00011014          |S            |F     |100000    |3            |0                   |Bachelors       |Management       |0             |3              |1-2 Miles      |North America|48 |0        |\n",
            "|11015      |301         |AW00011015          |S            |F     |30000     |0            |0                   |Partial College |Skilled Manual   |0             |1              |5-10 Miles     |North America|37 |1        |\n",
            "|11016      |329         |AW00011016          |M            |M     |30000     |0            |0                   |Partial College |Skilled Manual   |1             |1              |5-10 Miles     |North America|37 |1        |\n",
            "|11017      |39          |AW00011017          |S            |F     |20000     |4            |0                   |High School     |Skilled Manual   |1             |2              |5-10 Miles     |Pacific      |72 |1        |\n",
            "|11018      |32          |AW00011018          |S            |M     |30000     |2            |0                   |Partial College |Clerical         |1             |2              |5-10 Miles     |Pacific      |66 |1        |\n",
            "|11019      |52          |AW00011019          |S            |M     |40000     |0            |0                   |High School     |Skilled Manual   |0             |2              |5-10 Miles     |North America|38 |0        |\n",
            "+-----------+------------+--------------------+-------------+------+----------+-------------+--------------------+----------------+-----------------+--------------+---------------+---------------+-------------+---+---------+\n",
            "only showing top 20 rows\n",
            "\n"
          ]
        }
      ],
      "source": [
        "\n",
        "\n",
        "#Convert json column to multiple columns\n",
        "from pyspark.sql.functions import col,from_json\n",
        "dfJSON = df.withColumn(\"jsonData\",from_json(col(\"Body\"),schema)) \\\n",
        "                   .select(\"jsonData.*\")\n",
        "dfJSON.printSchema()\n",
        "dfJSON.show(truncate=False)\n",
        "\n"
      ]
    },
    {
      "cell_type": "code",
      "execution_count": 17,
      "metadata": {
        "collapsed": false,
        "jupyter": {
          "outputs_hidden": false,
          "source_hidden": false
        },
        "nteract": {
          "transient": {
            "deleting": false
          }
        }
      },
      "outputs": [
        {
          "data": {
            "application/vnd.livy.statement-meta+json": {
              "execution_finish_time": "2022-07-29T03:31:08.4235338Z",
              "execution_start_time": "2022-07-29T03:31:07.327663Z",
              "livy_statement_state": "available",
              "queued_time": "2022-07-29T03:31:07.219743Z",
              "session_id": "26",
              "session_start_time": null,
              "spark_jobs": null,
              "spark_pool": "poolstreamming",
              "state": "finished",
              "statement_id": 12
            },
            "text/plain": [
              "StatementMeta(poolstreamming, 26, 12, Finished, Available)"
            ]
          },
          "metadata": {},
          "output_type": "display_data"
        },
        {
          "data": {
            "text/plain": [
              "18000"
            ]
          },
          "execution_count": 37,
          "metadata": {},
          "output_type": "execute_result"
        }
      ],
      "source": [
        "dfJSON.count()"
      ]
    },
    {
      "cell_type": "code",
      "execution_count": 18,
      "metadata": {
        "jupyter": {
          "outputs_hidden": false,
          "source_hidden": false
        },
        "nteract": {
          "transient": {
            "deleting": false
          }
        }
      },
      "outputs": [
        {
          "data": {
            "application/vnd.livy.statement-meta+json": {
              "execution_finish_time": "2022-07-29T03:31:48.6017831Z",
              "execution_start_time": "2022-07-29T03:31:13.183652Z",
              "livy_statement_state": "available",
              "queued_time": "2022-07-29T03:31:13.0456025Z",
              "session_id": "26",
              "session_start_time": null,
              "spark_jobs": null,
              "spark_pool": "poolstreamming",
              "state": "finished",
              "statement_id": 13
            },
            "text/plain": [
              "StatementMeta(poolstreamming, 26, 13, Finished, Available)"
            ]
          },
          "metadata": {},
          "output_type": "display_data"
        }
      ],
      "source": [
        "dfJSON.write.mode(\"overwrite\").saveAsTable(\"vTargetMail\")"
      ]
    }
  ],
  "metadata": {
    "kernel_info": {
      "name": "synapse_pyspark"
    },
    "kernelspec": {
      "display_name": "Synapse PySpark",
      "language": "Python",
      "name": "synapse_pyspark"
    },
    "language_info": {
      "name": "python"
    },
    "save_output": true,
    "synapse_widget": {
      "state": {},
      "version": "0.1"
    }
  },
  "nbformat": 4,
  "nbformat_minor": 2
}
